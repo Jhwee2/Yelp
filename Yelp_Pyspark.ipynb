{
 "cells": [
  {
   "cell_type": "code",
   "execution_count": 36,
   "id": "e63ecf89-926b-4143-ace5-7b97d576f421",
   "metadata": {
    "execution": {
     "iopub.execute_input": "2022-12-17T03:59:49.253304Z",
     "iopub.status.busy": "2022-12-17T03:59:49.253065Z",
     "iopub.status.idle": "2022-12-17T03:59:49.312736Z",
     "shell.execute_reply": "2022-12-17T03:59:49.312033Z",
     "shell.execute_reply.started": "2022-12-17T03:59:49.253276Z"
    },
    "tags": []
   },
   "outputs": [
    {
     "data": {
      "application/vnd.jupyter.widget-view+json": {
       "model_id": "805c0723b6ad421b95efc41525c38b27",
       "version_major": 2,
       "version_minor": 0
      },
      "text/plain": [
       "VBox()"
      ]
     },
     "metadata": {},
     "output_type": "display_data"
    },
    {
     "data": {
      "application/vnd.jupyter.widget-view+json": {
       "model_id": "",
       "version_major": 2,
       "version_minor": 0
      },
      "text/plain": [
       "FloatProgress(value=0.0, bar_style='info', description='Progress:', layout=Layout(height='25px', width='50%'),…"
      ]
     },
     "metadata": {},
     "output_type": "display_data"
    }
   ],
   "source": [
    "import pyspark\n",
    "from pyspark.sql import SparkSession\n",
    "from pyspark.sql.functions import regexp_replace, lower, col, udf\n",
    "import pyspark.sql.functions as f\n",
    "from pyspark.ml.feature import Tokenizer, HashingTF, StopWordsRemover, IDF\n",
    "from pyspark.ml.classification import NaiveBayes \n",
    "from pyspark.ml.evaluation import MulticlassClassificationEvaluator"
   ]
  },
  {
   "cell_type": "code",
   "execution_count": 2,
   "id": "8910ee59-a19e-4e27-a8b6-6155b6f43fd0",
   "metadata": {
    "execution": {
     "iopub.execute_input": "2022-12-17T03:01:38.844195Z",
     "iopub.status.busy": "2022-12-17T03:01:38.843961Z",
     "iopub.status.idle": "2022-12-17T03:01:40.331259Z",
     "shell.execute_reply": "2022-12-17T03:01:40.330497Z",
     "shell.execute_reply.started": "2022-12-17T03:01:38.844170Z"
    },
    "tags": []
   },
   "outputs": [
    {
     "data": {
      "application/vnd.jupyter.widget-view+json": {
       "model_id": "357935322afa4b2d91b8da3dc517b871",
       "version_major": 2,
       "version_minor": 0
      },
      "text/plain": [
       "VBox()"
      ]
     },
     "metadata": {},
     "output_type": "display_data"
    },
    {
     "data": {
      "application/vnd.jupyter.widget-view+json": {
       "model_id": "",
       "version_major": 2,
       "version_minor": 0
      },
      "text/plain": [
       "FloatProgress(value=0.0, bar_style='info', description='Progress:', layout=Layout(height='25px', width='50%'),…"
      ]
     },
     "metadata": {},
     "output_type": "display_data"
    }
   ],
   "source": [
    "spark = SparkSession.builder.master(\"local[*]\") \\\n",
    ".appName('MyApplicationName') \\\n",
    ".getOrCreate()"
   ]
  },
  {
   "cell_type": "code",
   "execution_count": 3,
   "id": "f0fd9f4a-cdc1-41ee-8fe5-57205b992d9f",
   "metadata": {
    "execution": {
     "iopub.execute_input": "2022-12-17T02:32:33.942658Z",
     "iopub.status.busy": "2022-12-17T02:32:33.942385Z",
     "iopub.status.idle": "2022-12-17T02:32:34.005614Z",
     "shell.execute_reply": "2022-12-17T02:32:34.004925Z",
     "shell.execute_reply.started": "2022-12-17T02:32:33.942622Z"
    },
    "tags": []
   },
   "outputs": [
    {
     "data": {
      "application/vnd.jupyter.widget-view+json": {
       "model_id": "20189d807810471dbc72103deb6d1736",
       "version_major": 2,
       "version_minor": 0
      },
      "text/plain": [
       "VBox()"
      ]
     },
     "metadata": {},
     "output_type": "display_data"
    },
    {
     "data": {
      "application/vnd.jupyter.widget-view+json": {
       "model_id": "",
       "version_major": 2,
       "version_minor": 0
      },
      "text/plain": [
       "FloatProgress(value=0.0, bar_style='info', description='Progress:', layout=Layout(height='25px', width='50%'),…"
      ]
     },
     "metadata": {},
     "output_type": "display_data"
    },
    {
     "name": "stdout",
     "output_type": "stream",
     "text": [
      "'2.4.8-amzn-2'"
     ]
    }
   ],
   "source": [
    "sc.version"
   ]
  },
  {
   "cell_type": "code",
   "execution_count": 3,
   "id": "ff748a36-e821-4493-b95f-ac5750692b07",
   "metadata": {
    "execution": {
     "iopub.execute_input": "2022-12-17T03:01:42.787391Z",
     "iopub.status.busy": "2022-12-17T03:01:42.787157Z",
     "iopub.status.idle": "2022-12-17T03:02:26.283996Z",
     "shell.execute_reply": "2022-12-17T03:02:26.283362Z",
     "shell.execute_reply.started": "2022-12-17T03:01:42.787366Z"
    },
    "tags": []
   },
   "outputs": [
    {
     "data": {
      "application/vnd.jupyter.widget-view+json": {
       "model_id": "0f707137f2a747b18ce1840c8ffe0bbc",
       "version_major": 2,
       "version_minor": 0
      },
      "text/plain": [
       "VBox()"
      ]
     },
     "metadata": {},
     "output_type": "display_data"
    },
    {
     "data": {
      "application/vnd.jupyter.widget-view+json": {
       "model_id": "",
       "version_major": 2,
       "version_minor": 0
      },
      "text/plain": [
       "FloatProgress(value=0.0, bar_style='info', description='Progress:', layout=Layout(height='25px', width='50%'),…"
      ]
     },
     "metadata": {},
     "output_type": "display_data"
    }
   ],
   "source": [
    "df = spark.read.json(\"s3://my-data-bucket-yjh/yelp_academic_dataset_review.json\")"
   ]
  },
  {
   "cell_type": "code",
   "execution_count": 5,
   "id": "9eda7013-a9c2-4046-9ca7-e68487335f28",
   "metadata": {
    "execution": {
     "iopub.execute_input": "2022-12-17T00:35:04.157298Z",
     "iopub.status.busy": "2022-12-17T00:35:04.157073Z",
     "iopub.status.idle": "2022-12-17T00:35:04.936363Z",
     "shell.execute_reply": "2022-12-17T00:35:04.935629Z",
     "shell.execute_reply.started": "2022-12-17T00:35:04.157272Z"
    },
    "tags": []
   },
   "outputs": [
    {
     "data": {
      "application/vnd.jupyter.widget-view+json": {
       "model_id": "6d55e43262f54d308247c00cb9c44b03",
       "version_major": 2,
       "version_minor": 0
      },
      "text/plain": [
       "VBox()"
      ]
     },
     "metadata": {},
     "output_type": "display_data"
    },
    {
     "data": {
      "application/vnd.jupyter.widget-view+json": {
       "model_id": "",
       "version_major": 2,
       "version_minor": 0
      },
      "text/plain": [
       "FloatProgress(value=0.0, bar_style='info', description='Progress:', layout=Layout(height='25px', width='50%'),…"
      ]
     },
     "metadata": {},
     "output_type": "display_data"
    },
    {
     "name": "stdout",
     "output_type": "stream",
     "text": [
      "+--------------------+----+-------------------+-----+--------------------+-----+--------------------+------+--------------------+\n",
      "|         business_id|cool|               date|funny|           review_id|stars|                text|useful|             user_id|\n",
      "+--------------------+----+-------------------+-----+--------------------+-----+--------------------+------+--------------------+\n",
      "|XQfwVwDr-v0ZS3_Cb...|   0|2018-07-07 22:09:11|    0|KU_O5udG6zpxOg-Vc...|  3.0|If you decide to ...|     0|mh_-eMZ6K5RLWhZyI...|\n",
      "|7ATYjTIgM3jUlt4UM...|   1|2012-01-03 15:28:18|    0|BiTunyQ73aT9WBnpR...|  5.0|I've taken a lot ...|     1|OyoGAe7OKpv6SyGZT...|\n",
      "|YjUWPpI6HXG530lwP...|   0|2014-02-05 20:30:30|    0|saUsX_uimxRlCVr67...|  3.0|Family diner. Had...|     0|8g_iMtfSiwikVnbP2...|\n",
      "|kxX2SOes4o-D3ZQBk...|   1|2015-01-04 00:01:03|    0|AqPFMleE6RsU23_au...|  5.0|Wow!  Yummy, diff...|     1|_7bHUi9Uuf5__HHc_...|\n",
      "|e4Vwtrqf-wpJfwesg...|   1|2017-01-14 20:54:15|    0|Sx8TMOWLNuJBWer-0...|  4.0|Cute interior and...|     1|bcjbaE6dDog4jkNY9...|\n",
      "+--------------------+----+-------------------+-----+--------------------+-----+--------------------+------+--------------------+\n",
      "only showing top 5 rows"
     ]
    }
   ],
   "source": [
    "df.show(5)"
   ]
  },
  {
   "cell_type": "code",
   "execution_count": 7,
   "id": "1406e363-bf34-4751-9b91-6087d7a952d5",
   "metadata": {
    "execution": {
     "iopub.execute_input": "2022-12-17T00:35:58.478731Z",
     "iopub.status.busy": "2022-12-17T00:35:58.478494Z",
     "iopub.status.idle": "2022-12-17T00:36:36.001545Z",
     "shell.execute_reply": "2022-12-17T00:36:36.000882Z",
     "shell.execute_reply.started": "2022-12-17T00:35:58.478705Z"
    },
    "tags": []
   },
   "outputs": [
    {
     "data": {
      "application/vnd.jupyter.widget-view+json": {
       "model_id": "a47e834b25f04fe094370dac918708cc",
       "version_major": 2,
       "version_minor": 0
      },
      "text/plain": [
       "VBox()"
      ]
     },
     "metadata": {},
     "output_type": "display_data"
    },
    {
     "data": {
      "application/vnd.jupyter.widget-view+json": {
       "model_id": "",
       "version_major": 2,
       "version_minor": 0
      },
      "text/plain": [
       "FloatProgress(value=0.0, bar_style='info', description='Progress:', layout=Layout(height='25px', width='50%'),…"
      ]
     },
     "metadata": {},
     "output_type": "display_data"
    },
    {
     "name": "stdout",
     "output_type": "stream",
     "text": [
      "The data set has 6990280 number of records, and 9 columns"
     ]
    }
   ],
   "source": [
    "print(f'The data set has {df.count()} number of records, and {len(df.columns)} columns')"
   ]
  },
  {
   "cell_type": "code",
   "execution_count": 8,
   "id": "10dd48e5-2bdb-4edb-92c7-dff10aec021a",
   "metadata": {
    "execution": {
     "iopub.execute_input": "2022-12-17T00:37:18.597769Z",
     "iopub.status.busy": "2022-12-17T00:37:18.597526Z",
     "iopub.status.idle": "2022-12-17T00:37:18.658061Z",
     "shell.execute_reply": "2022-12-17T00:37:18.657436Z",
     "shell.execute_reply.started": "2022-12-17T00:37:18.597740Z"
    }
   },
   "outputs": [
    {
     "data": {
      "application/vnd.jupyter.widget-view+json": {
       "model_id": "7b829f2b853a41ec90031f950ed998cc",
       "version_major": 2,
       "version_minor": 0
      },
      "text/plain": [
       "VBox()"
      ]
     },
     "metadata": {},
     "output_type": "display_data"
    },
    {
     "data": {
      "application/vnd.jupyter.widget-view+json": {
       "model_id": "",
       "version_major": 2,
       "version_minor": 0
      },
      "text/plain": [
       "FloatProgress(value=0.0, bar_style='info', description='Progress:', layout=Layout(height='25px', width='50%'),…"
      ]
     },
     "metadata": {},
     "output_type": "display_data"
    },
    {
     "name": "stdout",
     "output_type": "stream",
     "text": [
      "[('business_id', 'string'), ('cool', 'bigint'), ('date', 'string'), ('funny', 'bigint'), ('review_id', 'string'), ('stars', 'double'), ('text', 'string'), ('useful', 'bigint'), ('user_id', 'string')]"
     ]
    }
   ],
   "source": [
    "df.dtypes"
   ]
  },
  {
   "cell_type": "code",
   "execution_count": 25,
   "id": "89d92035-c5da-4eb1-b9ff-69057dd80796",
   "metadata": {
    "execution": {
     "iopub.execute_input": "2022-12-17T01:24:13.913077Z",
     "iopub.status.busy": "2022-12-17T01:24:13.912850Z",
     "iopub.status.idle": "2022-12-17T01:28:22.251500Z",
     "shell.execute_reply": "2022-12-17T01:28:22.249908Z",
     "shell.execute_reply.started": "2022-12-17T01:24:13.913051Z"
    },
    "tags": []
   },
   "outputs": [
    {
     "data": {
      "application/vnd.jupyter.widget-view+json": {
       "model_id": "1fe57a811a344157a072709ae37355cf",
       "version_major": 2,
       "version_minor": 0
      },
      "text/plain": [
       "VBox()"
      ]
     },
     "metadata": {},
     "output_type": "display_data"
    },
    {
     "data": {
      "application/vnd.jupyter.widget-view+json": {
       "model_id": "",
       "version_major": 2,
       "version_minor": 0
      },
      "text/plain": [
       "FloatProgress(value=0.0, bar_style='info', description='Progress:', layout=Layout(height='25px', width='50%'),…"
      ]
     },
     "metadata": {},
     "output_type": "display_data"
    },
    {
     "name": "stderr",
     "output_type": "stream",
     "text": [
      "An error was encountered:\n",
      "'NoneType' object has no attribute 'round'\n",
      "Traceback (most recent call last):\n",
      "AttributeError: 'NoneType' object has no attribute 'round'\n",
      "\n"
     ]
    }
   ],
   "source": [
    "df.summary().show()"
   ]
  },
  {
   "cell_type": "code",
   "execution_count": 11,
   "id": "8dc3710b-148d-41c8-a5cb-ccf46e838c29",
   "metadata": {
    "execution": {
     "iopub.execute_input": "2022-12-17T00:41:49.321961Z",
     "iopub.status.busy": "2022-12-17T00:41:49.321720Z",
     "iopub.status.idle": "2022-12-17T00:42:20.772666Z",
     "shell.execute_reply": "2022-12-17T00:42:20.771987Z",
     "shell.execute_reply.started": "2022-12-17T00:41:49.321937Z"
    },
    "tags": []
   },
   "outputs": [
    {
     "data": {
      "application/vnd.jupyter.widget-view+json": {
       "model_id": "d2baac1a6b274c9887e620113e80f3ef",
       "version_major": 2,
       "version_minor": 0
      },
      "text/plain": [
       "VBox()"
      ]
     },
     "metadata": {},
     "output_type": "display_data"
    },
    {
     "data": {
      "application/vnd.jupyter.widget-view+json": {
       "model_id": "",
       "version_major": 2,
       "version_minor": 0
      },
      "text/plain": [
       "FloatProgress(value=0.0, bar_style='info', description='Progress:', layout=Layout(height='25px', width='50%'),…"
      ]
     },
     "metadata": {},
     "output_type": "display_data"
    },
    {
     "name": "stdout",
     "output_type": "stream",
     "text": [
      "0"
     ]
    }
   ],
   "source": [
    "df.where(df['text'].isNull()).count()"
   ]
  },
  {
   "cell_type": "code",
   "execution_count": 18,
   "id": "a8937d89-872a-4f49-a92d-9f3ab959f08a",
   "metadata": {
    "execution": {
     "iopub.execute_input": "2022-12-17T01:04:01.972499Z",
     "iopub.status.busy": "2022-12-17T01:04:01.972242Z",
     "iopub.status.idle": "2022-12-17T01:05:19.675699Z",
     "shell.execute_reply": "2022-12-17T01:05:19.674958Z",
     "shell.execute_reply.started": "2022-12-17T01:04:01.972469Z"
    },
    "tags": []
   },
   "outputs": [
    {
     "data": {
      "application/vnd.jupyter.widget-view+json": {
       "model_id": "2baf5485e0c4411091f24d97a8c379c1",
       "version_major": 2,
       "version_minor": 0
      },
      "text/plain": [
       "VBox()"
      ]
     },
     "metadata": {},
     "output_type": "display_data"
    },
    {
     "data": {
      "application/vnd.jupyter.widget-view+json": {
       "model_id": "",
       "version_major": 2,
       "version_minor": 0
      },
      "text/plain": [
       "FloatProgress(value=0.0, bar_style='info', description='Progress:', layout=Layout(height='25px', width='50%'),…"
      ]
     },
     "metadata": {},
     "output_type": "display_data"
    },
    {
     "name": "stdout",
     "output_type": "stream",
     "text": [
      "False"
     ]
    }
   ],
   "source": [
    "df.select(df['text']).distinct().count() == df.count()"
   ]
  },
  {
   "cell_type": "code",
   "execution_count": 16,
   "id": "d2e7a74e-d28c-4f93-85a7-960dd66a0ccb",
   "metadata": {
    "execution": {
     "iopub.execute_input": "2022-12-17T01:01:37.712383Z",
     "iopub.status.busy": "2022-12-17T01:01:37.712154Z",
     "iopub.status.idle": "2022-12-17T01:02:49.401534Z",
     "shell.execute_reply": "2022-12-17T01:02:49.400822Z",
     "shell.execute_reply.started": "2022-12-17T01:01:37.712356Z"
    },
    "tags": []
   },
   "outputs": [
    {
     "data": {
      "application/vnd.jupyter.widget-view+json": {
       "model_id": "489a05ce81f743ba83cd37353e842de0",
       "version_major": 2,
       "version_minor": 0
      },
      "text/plain": [
       "VBox()"
      ]
     },
     "metadata": {},
     "output_type": "display_data"
    },
    {
     "data": {
      "application/vnd.jupyter.widget-view+json": {
       "model_id": "",
       "version_major": 2,
       "version_minor": 0
      },
      "text/plain": [
       "FloatProgress(value=0.0, bar_style='info', description='Progress:', layout=Layout(height='25px', width='50%'),…"
      ]
     },
     "metadata": {},
     "output_type": "display_data"
    },
    {
     "name": "stdout",
     "output_type": "stream",
     "text": [
      "+--------------------+----+-------------------+-----+--------------------+-----+--------------------+------+--------------------+\n",
      "|         business_id|cool|               date|funny|           review_id|stars|                text|useful|             user_id|\n",
      "+--------------------+----+-------------------+-----+--------------------+-----+--------------------+------+--------------------+\n",
      "|eL4lyE7LNoXEMvpcJ...|   0|2011-08-25 16:14:24|    0|dpgq69tsI2f_GpRH7...|  3.0|This was a tough ...|     5|Uk3X2AypU8AqvcYEV...|\n",
      "|jsUzVBGEIoer6l_fx...|   0|2014-03-15 02:46:41|    0|I7XGtAW-KkzVDvtCv...|  1.0|The worker was aw...|     6|ulSJonL748r7a1W-t...|\n",
      "|I8eSWVzc_y9ORuKWg...|   0|2016-02-12 02:10:06|    0|EwToghmaFs7w5vwyO...|  5.0|Despina is the wa...|     1|2_yTdb1lyVQFwL8tA...|\n",
      "|34Eqv8jXgxg_EEwcs...|   0|2016-10-26 17:03:18|    0|J8KTnbCtArCsPKynC...|  5.0|Bomb. I go for th...|     0|RMmcPwhkkivzm80a2...|\n",
      "|GBTPC53ZrG1ZBY3DT...|   1|2011-09-25 20:00:29|    1|30NhLcomHTXBRoXY8...|  5.0|If you are willin...|     1|uPdFJ22SxG74yhsat...|\n",
      "|UvBSMmsmtT4RABoKy...|   0|2015-10-07 21:52:47|    0|FfN9XqQEkndemXyt0...|  3.0|I really hate hav...|     0|z8Vp-D3bo6PMmX9UB...|\n",
      "|3WwFBaxOLJEb7eDlF...|   0|2015-11-18 19:22:00|    0|1p2lzIn2khi-CTmCa...|  5.0|My daughter and I...|     0|khk-xOwzgLYn0o2u3...|\n",
      "|QA1wjE4gcIPP_AuBj...|   0|2018-05-29 03:09:10|    0|U31HkzR7O-OlLDhZk...|  4.0|I totally live in...|     1|VNhs7pN1moAw4X7nK...|\n",
      "|lB6jIOb1UBATmdfot...|   1|2013-11-14 21:13:16|    0|cgQbX0DPz0odNHwb7...|  4.0|Hands down the be...|     2|UdsVxQQoYsvyh8Ywb...|\n",
      "|TKE2vn4IXGs-EGKRu...|   0|2017-10-24 20:59:31|    0|00X_bXU4MQs0e9Ef3...|  4.0|Increasing my ori...|     0|koEq6ZZKJrzoK-qOh...|\n",
      "|RuRftAdSrkWJH-0ar...|   0|2017-01-02 16:10:15|    0|lsN2A7YcP_b064a81...|  5.0|Jon Butler was a ...|     0|5sLoW3MtJxPrb7HJ2...|\n",
      "|kpK6SmxIiNoGPNhlE...|   0|2013-03-19 14:50:18|    0|V1cXEYGQxrPwhE-W3...|  4.0|The food is GREAT...|     0|kiGPcMVkdis3DrTUb...|\n",
      "|TK9x9sCWRDwtiV5UA...|   0|2015-08-20 06:35:57|    0|nHNQ29uguEIg0Gm8Q...|  2.0|Not he best Vietn...|     0|nWepkfrazqoTWkPDd...|\n",
      "|SyfP3r24NyOICnWrA...|   0|2013-08-05 13:23:25|    0|PG72zG6MHifOVm1-0...|  5.0|Food here is trem...|     0|rDflsWTj4T2NYOPfa...|\n",
      "|Jx2AoB_IQOUrZ3s6f...|   0|2015-10-08 18:36:52|    0|iWwdv42zM5GHeXfOk...|  4.0|Some inconsistenc...|     1|eWgdpqLRw4uJHEHZf...|\n",
      "|V8H6z5ulGJEkaFUyR...|   0|2016-05-19 20:08:03|    0|FAu-PrCYqvjhQrRIy...|  2.0|This was our firs...|     0|Kg7964JeT7R0v4m74...|\n",
      "|LSxmfbgcZLdQ5ai2v...|   0|2015-04-03 17:52:23|    0|fUpXRkpp3pl4gMzj2...|  4.0|Cheap, quick, del...|     2|9o0wWRNXqDLwTyLUQ...|\n",
      "|cUZoTitmOXXNdmWYB...|   0|2015-11-06 18:52:24|    0|rEpBVAqu9axjQc5qm...|  1.0|The name of the g...|     0|J-xm5Q9zQhMoiswHI...|\n",
      "|4IfB38Rx0kRsYShoO...|   0|2016-12-20 21:08:18|    0|vBlYu85Z7a8C1vVRC...|  5.0|KiKi is AWESOME.....|     0|dvOHmLR0Tv3YjLf5b...|\n",
      "|p-vRA4n3m9lxxBSYR...|   1|2013-12-29 23:17:33|    1|KydY4AQnOhwAQRABe...|  5.0|This place is Gre...|     1|n3kv4n9QWHawe_qCP...|\n",
      "+--------------------+----+-------------------+-----+--------------------+-----+--------------------+------+--------------------+\n",
      "only showing top 20 rows"
     ]
    }
   ],
   "source": [
    "df.dropDuplicates().show()"
   ]
  },
  {
   "cell_type": "code",
   "execution_count": 4,
   "id": "a607a8e6-8c61-4aea-9192-0f4cb5ea6032",
   "metadata": {
    "execution": {
     "iopub.execute_input": "2022-12-17T03:02:26.285250Z",
     "iopub.status.busy": "2022-12-17T03:02:26.285075Z",
     "iopub.status.idle": "2022-12-17T03:03:22.081882Z",
     "shell.execute_reply": "2022-12-17T03:03:21.911098Z",
     "shell.execute_reply.started": "2022-12-17T03:02:26.285228Z"
    },
    "tags": []
   },
   "outputs": [
    {
     "data": {
      "application/vnd.jupyter.widget-view+json": {
       "model_id": "d7dc94db7e1d4ed3b970cf7c92e253a3",
       "version_major": 2,
       "version_minor": 0
      },
      "text/plain": [
       "VBox()"
      ]
     },
     "metadata": {},
     "output_type": "display_data"
    },
    {
     "data": {
      "application/vnd.jupyter.widget-view+json": {
       "model_id": "",
       "version_major": 2,
       "version_minor": 0
      },
      "text/plain": [
       "FloatProgress(value=0.0, bar_style='info', description='Progress:', layout=Layout(height='25px', width='50%'),…"
      ]
     },
     "metadata": {},
     "output_type": "display_data"
    },
    {
     "name": "stdout",
     "output_type": "stream",
     "text": [
      "6974127"
     ]
    }
   ],
   "source": [
    "df = df.dropDuplicates(subset=['text'])\n",
    "print(df.count())"
   ]
  },
  {
   "cell_type": "code",
   "execution_count": 22,
   "id": "4b8790c1-0e94-4e22-87f1-0c52ea4425bf",
   "metadata": {
    "execution": {
     "iopub.execute_input": "2022-12-17T01:18:49.237961Z",
     "iopub.status.busy": "2022-12-17T01:18:49.236955Z",
     "iopub.status.idle": "2022-12-17T01:20:35.016326Z",
     "shell.execute_reply": "2022-12-17T01:20:35.015742Z",
     "shell.execute_reply.started": "2022-12-17T01:18:49.237927Z"
    },
    "tags": []
   },
   "outputs": [
    {
     "data": {
      "application/vnd.jupyter.widget-view+json": {
       "model_id": "30be8ce30a104464ac96e897253d8e0d",
       "version_major": 2,
       "version_minor": 0
      },
      "text/plain": [
       "VBox()"
      ]
     },
     "metadata": {},
     "output_type": "display_data"
    },
    {
     "data": {
      "application/vnd.jupyter.widget-view+json": {
       "model_id": "",
       "version_major": 2,
       "version_minor": 0
      },
      "text/plain": [
       "FloatProgress(value=0.0, bar_style='info', description='Progress:', layout=Layout(height='25px', width='50%'),…"
      ]
     },
     "metadata": {},
     "output_type": "display_data"
    },
    {
     "name": "stdout",
     "output_type": "stream",
     "text": [
      "+-----+-------+\n",
      "|stars|  count|\n",
      "+-----+-------+\n",
      "|  1.0|1066233|\n",
      "|  5.0|3223620|\n",
      "|  2.0| 543258|\n",
      "|  4.0|1450232|\n",
      "|  3.0| 690784|\n",
      "+-----+-------+"
     ]
    }
   ],
   "source": [
    "df.groupBy('stars').count().show()"
   ]
  },
  {
   "cell_type": "code",
   "execution_count": 39,
   "id": "d448844b-0b64-4474-aa51-5b81eeca002b",
   "metadata": {
    "execution": {
     "iopub.execute_input": "2022-12-17T01:49:12.697701Z",
     "iopub.status.busy": "2022-12-17T01:49:12.697461Z",
     "iopub.status.idle": "2022-12-17T01:51:02.489231Z",
     "shell.execute_reply": "2022-12-17T01:51:02.486623Z",
     "shell.execute_reply.started": "2022-12-17T01:49:12.697677Z"
    },
    "tags": []
   },
   "outputs": [
    {
     "data": {
      "application/vnd.jupyter.widget-view+json": {
       "model_id": "f3522f72c5034dc5930f3b7699ad5c4d",
       "version_major": 2,
       "version_minor": 0
      },
      "text/plain": [
       "VBox()"
      ]
     },
     "metadata": {},
     "output_type": "display_data"
    },
    {
     "data": {
      "application/vnd.jupyter.widget-view+json": {
       "model_id": "",
       "version_major": 2,
       "version_minor": 0
      },
      "text/plain": [
       "FloatProgress(value=0.0, bar_style='info', description='Progress:', layout=Layout(height='25px', width='50%'),…"
      ]
     },
     "metadata": {},
     "output_type": "display_data"
    },
    {
     "name": "stdout",
     "output_type": "stream",
     "text": [
      "+--------------------+----+-------------------+-----+--------------------+-----+--------------------+------+--------------------+---------+\n",
      "|         business_id|cool|               date|funny|           review_id|stars|                text|useful|             user_id|wordCount|\n",
      "+--------------------+----+-------------------+-----+--------------------+-----+--------------------+------+--------------------+---------+\n",
      "|Cjwb7VQGP0u2eWYj1...|   0|2017-08-25 05:46:31|    0|eKI6tX2_8BFUYtDA8...|  1.0|!!! DO NOT COME H...|     7|kuzLeLM0DVrcWToFK...|      631|\n",
      "|szcdtj3XvJIVKLNjh...|   0|2015-09-10 18:45:38|    0|ZbCkCUgQVIq75h-Fj...|  1.0|!!!!!!BE AWARE!!!...|     0|1QftliNjMf7FTCd2j...|      320|\n",
      "|GbGbh15JQXb0-V-XY...|   1|2013-09-23 00:13:47|    3|KmXSSCHs3rnfg6Fe1...|  5.0|!Clarifier - this...|     6|dBrQG46MhVWobyPeE...|      169|\n",
      "|n4XX_Im7-njZ8YCdw...|   0|2015-02-08 17:45:00|    1|zHZ2Wh-c3BpGPPBfZ...|  1.0|\" after a previou...|     4|7lNgj9Wv999fSPV_m...|      132|\n",
      "|a32M9H9nkkPGKTKB5...|   0|2009-07-15 04:25:17|    0|f4n-u3n1CQkDCMJbT...|  1.0|\"\"\"\" AVOID AVOID ...|     0|clFm5o-lpVVVqCYi7...|      458|\n",
      "|ZZKSh6Kv3l-ku22Gw...|   0|2017-08-02 04:06:46|    0|6w9HEYjKEv_twZOBc...|  1.0|\"24 hour service\"...|     0|hyzcddhseOuNfST69...|       45|\n",
      "|0vx-NZf-1Pimrrfk1...|   0|2018-02-25 21:59:46|    0|-Q2saYYJ1D8neU9V3...|  1.0|\"Arrogant aggress...|     5|vNOzltsN8RwCIA5d7...|      191|\n",
      "|z9-8KvMAlVK46De-G...|   6|2011-06-20 05:02:57|    6|ChjdAX_YYrvt8BtRD...|  5.0|\"Blenders in the ...|     8|QF1Kuhs8iwLWANNZx...|      125|\n",
      "|5QsipB9-N4RMj94c-...|   0|2015-07-26 21:34:47|    1|tifBchWqnBaVMz5C6...|  5.0|\"CHEERS!\" she sai...|     0|dUfpv0Le2TU8jOEMW...|      239|\n",
      "|OT4R5rZTUm97bdoT-...|   0|2018-08-23 03:44:01|    2|l3D5exjIaihBBuorT...|  1.0|\"Clara was fast, ...|     1|pBKW8PhO1yYsw4eHU...|      185|\n",
      "|AlH5V97JSAu7AL_xd...|   0|2017-05-07 20:29:42|    0|ErhFdx0zwITmdOIA_...|  2.0|\"Don't sit and be...|     0|wP9Aw3u0budueHdUJ...|       79|\n",
      "|SXWlFsPfV0hO3Go2q...|   1|2019-09-23 03:20:17|    4|e1FYIngDztXOa7GJr...|  3.0|\"Everybody wants ...|     2|1Gqx7Fb6UL9HNRSUg...|      235|\n",
      "|4F-q6zoOLjUXrw3sm...|   0|2018-02-06 16:01:25|    0|4OISKDSwGuCtMhrw2...|  5.0|\"Everything was a...|     0|U2MFRIoF0hYhYt6c7...|       17|\n",
      "|kZ1q0K13tFYG_ZJrV...|   1|2010-11-20 20:47:06|   12|X8EsaVzTM0YbM0-zq...|  2.0|\"For one million ...|     3|2lFni8ituUYceQJPx...|       98|\n",
      "|CPR0GASxy4CF8s9WL...|   2|2010-11-17 08:59:57|    5|baQUcu0RuIvuUKCIF...|  2.0|\"GRETNA - NOBODY ...|    19|M-57z7SIpKiS5TICl...|      681|\n",
      "|J6-8orqKhPxCuYhaJ...|   0|2019-08-18 17:18:39|    6|uQA8ECHmtMlr9Mtz_...|  5.0|\"Give me back my ...|     1|1Gqx7Fb6UL9HNRSUg...|      229|\n",
      "|Y-JwO5yETnBEAXcho...|   0|2015-11-21 13:15:52|    0|8Jsy76xwmLicrHLc3...|  5.0|\"Globally inspire...|     0|YB6Lr_AS6aIdXvSU6...|       53|\n",
      "|s5bYl0-Nlc7H95w0H...|   0|2016-12-07 02:19:27|    0|KjPber2EjhsqZSJ_0...|  5.0|\"Great shop! They...|     3|In5ae2U0_ZF6L1x0D...|       32|\n",
      "|dBRWKIS7h-qZCi8Ej...|   2|2010-02-17 15:26:15|    3|mW_wV7D7PSG98zl4Q...|  3.0|\"HEEELLPPPP!!!   ...|     1|vJvIXMIViUDuMZGqY...|       48|\n",
      "|XIg2HGszVgHDaP4WX...|   0|2010-09-03 07:05:08|    0|zwX6suvyVzbc2VdzD...|  4.0|\"Hello, my name i...|     1|7NeR2QJ_jgUQuLUQ3...|      131|\n",
      "+--------------------+----+-------------------+-----+--------------------+-----+--------------------+------+--------------------+---------+\n",
      "only showing top 20 rows"
     ]
    }
   ],
   "source": [
    "df = df.withColumn('wordCount', f.size(f.split(f.col('text'), ' ')))\n",
    "df.show()"
   ]
  },
  {
   "cell_type": "code",
   "execution_count": 30,
   "id": "6da376fb-572c-4c3c-8f6b-e31ca8ada675",
   "metadata": {
    "execution": {
     "iopub.execute_input": "2022-12-17T03:50:32.946471Z",
     "iopub.status.busy": "2022-12-17T03:50:32.946252Z",
     "iopub.status.idle": "2022-12-17T03:50:33.199705Z",
     "shell.execute_reply": "2022-12-17T03:50:33.199105Z",
     "shell.execute_reply.started": "2022-12-17T03:50:32.946448Z"
    },
    "tags": []
   },
   "outputs": [
    {
     "data": {
      "application/vnd.jupyter.widget-view+json": {
       "model_id": "471b1fa756b4466fa4e3726d82d4adcb",
       "version_major": 2,
       "version_minor": 0
      },
      "text/plain": [
       "VBox()"
      ]
     },
     "metadata": {},
     "output_type": "display_data"
    },
    {
     "data": {
      "application/vnd.jupyter.widget-view+json": {
       "model_id": "",
       "version_major": 2,
       "version_minor": 0
      },
      "text/plain": [
       "FloatProgress(value=0.0, bar_style='info', description='Progress:', layout=Layout(height='25px', width='50%'),…"
      ]
     },
     "metadata": {},
     "output_type": "display_data"
    }
   ],
   "source": [
    "df = df.withColumn('text', regexp_replace(df.text, '[_():;,.!\"\"?\\\\$&''-]', ' '))\n",
    "df = df.withColumn('text', regexp_replace(df.text, '[0-9]', ' '))\n",
    "df = df.withColumn('text', regexp_replace(df.text, ' +', ' '))\n",
    "df = df.withColumn('text', lower(df.text))"
   ]
  },
  {
   "cell_type": "code",
   "execution_count": 22,
   "id": "ad5de524-6a6c-4743-a81d-b38d1e306f96",
   "metadata": {
    "execution": {
     "iopub.execute_input": "2022-12-17T03:25:54.723589Z",
     "iopub.status.busy": "2022-12-17T03:25:54.723284Z",
     "iopub.status.idle": "2022-12-17T03:25:55.027965Z",
     "shell.execute_reply": "2022-12-17T03:25:55.027237Z",
     "shell.execute_reply.started": "2022-12-17T03:25:54.723528Z"
    }
   },
   "outputs": [
    {
     "data": {
      "application/vnd.jupyter.widget-view+json": {
       "model_id": "f002f3aff5f748a7ac504221374286ab",
       "version_major": 2,
       "version_minor": 0
      },
      "text/plain": [
       "VBox()"
      ]
     },
     "metadata": {},
     "output_type": "display_data"
    },
    {
     "data": {
      "application/vnd.jupyter.widget-view+json": {
       "model_id": "",
       "version_major": 2,
       "version_minor": 0
      },
      "text/plain": [
       "FloatProgress(value=0.0, bar_style='info', description='Progress:', layout=Layout(height='25px', width='50%'),…"
      ]
     },
     "metadata": {},
     "output_type": "display_data"
    }
   ],
   "source": [
    "df = Tokenizer(inputCol='text', outputCol='words').transform(df)"
   ]
  },
  {
   "cell_type": "code",
   "execution_count": 26,
   "id": "42bcf9be-c1a6-4f81-8fe8-1424bbc17068",
   "metadata": {
    "collapsed": true,
    "execution": {
     "iopub.execute_input": "2022-12-17T03:28:32.994583Z",
     "iopub.status.busy": "2022-12-17T03:28:32.994400Z",
     "iopub.status.idle": "2022-12-17T03:28:33.270289Z",
     "shell.execute_reply": "2022-12-17T03:28:33.269717Z",
     "shell.execute_reply.started": "2022-12-17T03:28:32.994561Z"
    },
    "jupyter": {
     "outputs_hidden": true
    },
    "tags": []
   },
   "outputs": [
    {
     "data": {
      "application/vnd.jupyter.widget-view+json": {
       "model_id": "0fddd1ef1c454a0785744448e7e5cc75",
       "version_major": 2,
       "version_minor": 0
      },
      "text/plain": [
       "VBox()"
      ]
     },
     "metadata": {},
     "output_type": "display_data"
    },
    {
     "data": {
      "application/vnd.jupyter.widget-view+json": {
       "model_id": "",
       "version_major": 2,
       "version_minor": 0
      },
      "text/plain": [
       "FloatProgress(value=0.0, bar_style='info', description='Progress:', layout=Layout(height='25px', width='50%'),…"
      ]
     },
     "metadata": {},
     "output_type": "display_data"
    },
    {
     "name": "stderr",
     "output_type": "stream",
     "text": [
      "An error was encountered:\n",
      "'requirement failed: Column terms already exists.'\n",
      "Traceback (most recent call last):\n",
      "  File \"/usr/lib/spark/python/lib/pyspark.zip/pyspark/ml/base.py\", line 173, in transform\n",
      "    return self._transform(dataset)\n",
      "  File \"/usr/lib/spark/python/lib/pyspark.zip/pyspark/ml/wrapper.py\", line 312, in _transform\n",
      "    return DataFrame(self._java_obj.transform(dataset._jdf), dataset.sql_ctx)\n",
      "  File \"/usr/lib/spark/python/lib/py4j-0.10.7-src.zip/py4j/java_gateway.py\", line 1257, in __call__\n",
      "    answer, self.gateway_client, self.target_id, self.name)\n",
      "  File \"/usr/lib/spark/python/lib/pyspark.zip/pyspark/sql/utils.py\", line 79, in deco\n",
      "    raise IllegalArgumentException(s.split(': ', 1)[1], stackTrace)\n",
      "pyspark.sql.utils.IllegalArgumentException: 'requirement failed: Column terms already exists.'\n",
      "\n"
     ]
    }
   ],
   "source": [
    "df = StopWordsRemover(inputCol='words', outputCol='terms').transform(df)"
   ]
  },
  {
   "cell_type": "code",
   "execution_count": 40,
   "id": "b4f0c135-b857-4547-90b4-b34fffe055a7",
   "metadata": {
    "collapsed": true,
    "execution": {
     "iopub.execute_input": "2022-12-17T04:01:51.715832Z",
     "iopub.status.busy": "2022-12-17T04:01:51.715599Z",
     "iopub.status.idle": "2022-12-17T04:01:51.973059Z",
     "shell.execute_reply": "2022-12-17T04:01:51.972350Z",
     "shell.execute_reply.started": "2022-12-17T04:01:51.715808Z"
    },
    "jupyter": {
     "outputs_hidden": true
    },
    "tags": []
   },
   "outputs": [
    {
     "data": {
      "application/vnd.jupyter.widget-view+json": {
       "model_id": "80f8a20f75364f1f84f8ca9aa2ec86fa",
       "version_major": 2,
       "version_minor": 0
      },
      "text/plain": [
       "VBox()"
      ]
     },
     "metadata": {},
     "output_type": "display_data"
    },
    {
     "data": {
      "application/vnd.jupyter.widget-view+json": {
       "model_id": "",
       "version_major": 2,
       "version_minor": 0
      },
      "text/plain": [
       "FloatProgress(value=0.0, bar_style='info', description='Progress:', layout=Layout(height='25px', width='50%'),…"
      ]
     },
     "metadata": {},
     "output_type": "display_data"
    },
    {
     "name": "stderr",
     "output_type": "stream",
     "text": [
      "An error was encountered:\n",
      "'requirement failed: Column hash already exists.'\n",
      "Traceback (most recent call last):\n",
      "  File \"/usr/lib/spark/python/lib/pyspark.zip/pyspark/ml/base.py\", line 173, in transform\n",
      "    return self._transform(dataset)\n",
      "  File \"/usr/lib/spark/python/lib/pyspark.zip/pyspark/ml/wrapper.py\", line 312, in _transform\n",
      "    return DataFrame(self._java_obj.transform(dataset._jdf), dataset.sql_ctx)\n",
      "  File \"/usr/lib/spark/python/lib/py4j-0.10.7-src.zip/py4j/java_gateway.py\", line 1257, in __call__\n",
      "    answer, self.gateway_client, self.target_id, self.name)\n",
      "  File \"/usr/lib/spark/python/lib/pyspark.zip/pyspark/sql/utils.py\", line 79, in deco\n",
      "    raise IllegalArgumentException(s.split(': ', 1)[1], stackTrace)\n",
      "pyspark.sql.utils.IllegalArgumentException: 'requirement failed: Column hash already exists.'\n",
      "\n"
     ]
    }
   ],
   "source": [
    "df = HashingTF(inputCol='terms', outputCol='hash').transform(df)\n",
    "tf_idf = IDF(inputCol='hash', outputCol='features').fit(df).transform(df)"
   ]
  },
  {
   "cell_type": "code",
   "execution_count": 41,
   "id": "1cc7aafd-24ce-4cfe-9986-9c1f2aa58f11",
   "metadata": {
    "execution": {
     "iopub.execute_input": "2022-12-17T04:03:15.827767Z",
     "iopub.status.busy": "2022-12-17T04:03:15.827485Z",
     "iopub.status.idle": "2022-12-17T04:03:15.893644Z",
     "shell.execute_reply": "2022-12-17T04:03:15.892897Z",
     "shell.execute_reply.started": "2022-12-17T04:03:15.827740Z"
    }
   },
   "outputs": [
    {
     "data": {
      "application/vnd.jupyter.widget-view+json": {
       "model_id": "8f7019dfa2bc4d19ad68b2c397230790",
       "version_major": 2,
       "version_minor": 0
      },
      "text/plain": [
       "VBox()"
      ]
     },
     "metadata": {},
     "output_type": "display_data"
    },
    {
     "data": {
      "application/vnd.jupyter.widget-view+json": {
       "model_id": "",
       "version_major": 2,
       "version_minor": 0
      },
      "text/plain": [
       "FloatProgress(value=0.0, bar_style='info', description='Progress:', layout=Layout(height='25px', width='50%'),…"
      ]
     },
     "metadata": {},
     "output_type": "display_data"
    },
    {
     "name": "stdout",
     "output_type": "stream",
     "text": [
      "DataFrame[terms: array<string>, features: vector]"
     ]
    }
   ],
   "source": [
    "tf_idf.select('terms', 'features')"
   ]
  },
  {
   "cell_type": "code",
   "execution_count": 29,
   "id": "de0e1f3c-7e21-426c-b112-6ca8f2f281a1",
   "metadata": {
    "execution": {
     "iopub.execute_input": "2022-12-17T03:44:21.803813Z",
     "iopub.status.busy": "2022-12-17T03:44:21.803580Z",
     "iopub.status.idle": "2022-12-17T03:44:22.064420Z",
     "shell.execute_reply": "2022-12-17T03:44:22.063823Z",
     "shell.execute_reply.started": "2022-12-17T03:44:21.803789Z"
    },
    "jupyter": {
     "source_hidden": true
    },
    "tags": []
   },
   "outputs": [
    {
     "data": {
      "application/vnd.jupyter.widget-view+json": {
       "model_id": "0f25dec8719e4bf7bd406319027213d0",
       "version_major": 2,
       "version_minor": 0
      },
      "text/plain": [
       "VBox()"
      ]
     },
     "metadata": {},
     "output_type": "display_data"
    },
    {
     "data": {
      "application/vnd.jupyter.widget-view+json": {
       "model_id": "",
       "version_major": 2,
       "version_minor": 0
      },
      "text/plain": [
       "FloatProgress(value=0.0, bar_style='info', description='Progress:', layout=Layout(height='25px', width='50%'),…"
      ]
     },
     "metadata": {},
     "output_type": "display_data"
    }
   ],
   "source": [
    "df_train, df_test = df.randomSplit([0.8, 0.2], seed=13)"
   ]
  },
  {
   "cell_type": "code",
   "execution_count": 31,
   "id": "e9ee6a3e-e62a-4c15-8b5b-394ddf2449e9",
   "metadata": {
    "execution": {
     "iopub.execute_input": "2022-12-17T03:50:39.543831Z",
     "iopub.status.busy": "2022-12-17T03:50:39.543561Z",
     "iopub.status.idle": "2022-12-17T03:51:55.127437Z",
     "shell.execute_reply": "2022-12-17T03:51:55.124757Z",
     "shell.execute_reply.started": "2022-12-17T03:50:39.543805Z"
    }
   },
   "outputs": [
    {
     "data": {
      "application/vnd.jupyter.widget-view+json": {
       "model_id": "5b5d550d312b4dadb5c3d624d491f85c",
       "version_major": 2,
       "version_minor": 0
      },
      "text/plain": [
       "VBox()"
      ]
     },
     "metadata": {},
     "output_type": "display_data"
    },
    {
     "data": {
      "application/vnd.jupyter.widget-view+json": {
       "model_id": "",
       "version_major": 2,
       "version_minor": 0
      },
      "text/plain": [
       "FloatProgress(value=0.0, bar_style='info', description='Progress:', layout=Layout(height='25px', width='50%'),…"
      ]
     },
     "metadata": {},
     "output_type": "display_data"
    },
    {
     "name": "stdout",
     "output_type": "stream",
     "text": [
      "+--------------------+----+-------------------+-----+--------------------+-----+--------------------+------+--------------------+--------------------+--------------------+--------------------+\n",
      "|         business_id|cool|               date|funny|           review_id|stars|                text|useful|             user_id|               words|               terms|                hash|\n",
      "+--------------------+----+-------------------+-----+--------------------+-----+--------------------+------+--------------------+--------------------+--------------------+--------------------+\n",
      "|Cjwb7VQGP0u2eWYj1...|   0|2017-08-25 05:46:31|    0|eKI6tX2_8BFUYtDA8...|  1.0| do not come here...|     7|kuzLeLM0DVrcWToFK...|[, do, not, come,...|[, come, come, un...|(262144,[14,1558,...|\n",
      "|szcdtj3XvJIVKLNjh...|   0|2015-09-10 18:45:38|    0|ZbCkCUgQVIq75h-Fj...|  1.0| be aware i went ...|     0|1QftliNjMf7FTCd2j...|[, be, aware, i, ...|[, aware, went, p...|(262144,[3530,523...|\n",
      "|GbGbh15JQXb0-V-XY...|   1|2013-09-23 00:13:47|    3|KmXSSCHs3rnfg6Fe1...|  5.0| clarifier this i...|     6|dBrQG46MhVWobyPeE...|[, clarifier, thi...|[, clarifier, rev...|(262144,[1911,306...|\n",
      "|n4XX_Im7-njZ8YCdw...|   0|2015-02-08 17:45:00|    1|zHZ2Wh-c3BpGPPBfZ...|  1.0| after a previous...|     4|7lNgj9Wv999fSPV_m...|[, after, a, prev...|[, previous, awfu...|(262144,[24113,35...|\n",
      "|a32M9H9nkkPGKTKB5...|   0|2009-07-15 04:25:17|    0|f4n-u3n1CQkDCMJbT...|  1.0| avoid avoid avoi...|     0|clFm5o-lpVVVqCYi7...|[, avoid, avoid, ...|[, avoid, avoid, ...|(262144,[14,78,53...|\n",
      "+--------------------+----+-------------------+-----+--------------------+-----+--------------------+------+--------------------+--------------------+--------------------+--------------------+\n",
      "only showing top 5 rows"
     ]
    }
   ],
   "source": [
    "df.show(5)"
   ]
  },
  {
   "cell_type": "code",
   "execution_count": 42,
   "id": "6f38b9da-eae8-4b43-901b-f9da2b715afc",
   "metadata": {
    "execution": {
     "iopub.execute_input": "2022-12-17T04:03:38.371871Z",
     "iopub.status.busy": "2022-12-17T04:03:38.371647Z",
     "iopub.status.idle": "2022-12-17T04:03:38.421346Z",
     "shell.execute_reply": "2022-12-17T04:03:38.420751Z",
     "shell.execute_reply.started": "2022-12-17T04:03:38.371847Z"
    },
    "tags": []
   },
   "outputs": [
    {
     "data": {
      "application/vnd.jupyter.widget-view+json": {
       "model_id": "d979e56cb2dc4c94aa2186e19f17fb6c",
       "version_major": 2,
       "version_minor": 0
      },
      "text/plain": [
       "VBox()"
      ]
     },
     "metadata": {},
     "output_type": "display_data"
    },
    {
     "data": {
      "application/vnd.jupyter.widget-view+json": {
       "model_id": "",
       "version_major": 2,
       "version_minor": 0
      },
      "text/plain": [
       "FloatProgress(value=0.0, bar_style='info', description='Progress:', layout=Layout(height='25px', width='50%'),…"
      ]
     },
     "metadata": {},
     "output_type": "display_data"
    }
   ],
   "source": [
    "nb = NaiveBayes(modelType=\"multinomial\")"
   ]
  },
  {
   "cell_type": "code",
   "execution_count": null,
   "id": "f5914daa-542a-4d3a-be28-49e6caf165de",
   "metadata": {},
   "outputs": [],
   "source": []
  }
 ],
 "metadata": {
  "kernelspec": {
   "display_name": "PySpark",
   "language": "python",
   "name": "pysparkkernel"
  },
  "language_info": {
   "codemirror_mode": {
    "name": "python",
    "version": 3
   },
   "file_extension": ".py",
   "mimetype": "text/x-python",
   "name": "pyspark",
   "pygments_lexer": "python3"
  }
 },
 "nbformat": 4,
 "nbformat_minor": 5
}
